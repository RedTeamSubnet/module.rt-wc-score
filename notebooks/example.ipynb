{
 "cells": [
  {
   "cell_type": "code",
   "execution_count": null,
   "metadata": {},
   "outputs": [],
   "source": [
    "import sys\n",
    "import os\n",
    "import pandas as pd\n",
    "import json\n"
   ]
  },
  {
   "cell_type": "code",
   "execution_count": null,
   "metadata": {},
   "outputs": [],
   "source": [
    "\n",
    "print(sys.path)\n",
    "notebook_dir = os.getcwd()\n",
    "root_dir = os.path.dirname(notebook_dir)\n",
    "src_dir = os.path.join(root_dir, \"src\")\n",
    "if src_dir not in sys.path:\n",
    "    os.chdir(src_dir)\n",
    "    sys.path.append( src_dir)"
   ]
  },
  {
   "cell_type": "code",
   "execution_count": null,
   "metadata": {},
   "outputs": [],
   "source": [
    "from metrics_processor.modules.feature_engineering import SSFeatureEnginnering\n",
    "from metrics_processor.modules.heuristics import SSHeuristicsManager"
   ]
  },
  {
   "cell_type": "code",
   "execution_count": null,
   "metadata": {},
   "outputs": [],
   "source": [
    "# Replace 'your_file.json' with the path to your JSON file\n",
    "file_path = \"../data/metrics.json\"\n",
    "\n",
    "# Open the file and load it as a dictionary\n",
    "with open(file_path, \"r\") as file:\n",
    "    data = json.load(file)\n",
    "\n"
   ]
  },
  {
   "cell_type": "code",
   "execution_count": 15,
   "metadata": {},
   "outputs": [
    {
     "data": {
      "text/plain": [
       "{'ui_movements': [{'x': 31, 'y': 23, 'timestamp': '2024-11-26T00:45:39.725Z'},\n",
       "  {'x': 32, 'y': 737, 'timestamp': '2024-11-26T00:45:40.920Z'},\n",
       "  {'x': 723, 'y': 28, 'timestamp': '2024-11-26T00:45:42.102Z'},\n",
       "  {'x': 322, 'y': 497, 'timestamp': '2024-11-26T00:45:42.993Z'},\n",
       "  {'x': 484, 'y': 548, 'timestamp': '2024-11-26T00:45:44.038Z'},\n",
       "  {'x': 397, 'y': 612, 'timestamp': '2024-11-26T00:45:45.411Z'}],\n",
       " 'ui_clicks': [{'x': 31,\n",
       "   'y': 23,\n",
       "   'timestamp': '2024-11-26T00:45:39.726Z',\n",
       "   'button': 0},\n",
       "  {'x': 32, 'y': 737, 'timestamp': '2024-11-26T00:45:40.920Z', 'button': 0},\n",
       "  {'x': 723, 'y': 28, 'timestamp': '2024-11-26T00:45:42.103Z', 'button': 0},\n",
       "  {'x': 322, 'y': 497, 'timestamp': '2024-11-26T00:45:42.994Z', 'button': 0},\n",
       "  {'x': 484, 'y': 548, 'timestamp': '2024-11-26T00:45:44.039Z', 'button': 0},\n",
       "  {'x': 397, 'y': 612, 'timestamp': '2024-11-26T00:45:45.411Z', 'button': 0}],\n",
       " 'ui_mouseDowns': [{'x': 31,\n",
       "   'y': 23,\n",
       "   'timestamp': '2024-11-26T00:45:39.725Z',\n",
       "   'button': 0,\n",
       "   'type': 'mousedown'},\n",
       "  {'x': 32,\n",
       "   'y': 737,\n",
       "   'timestamp': '2024-11-26T00:45:40.920Z',\n",
       "   'button': 0,\n",
       "   'type': 'mousedown'},\n",
       "  {'x': 723,\n",
       "   'y': 28,\n",
       "   'timestamp': '2024-11-26T00:45:42.102Z',\n",
       "   'button': 0,\n",
       "   'type': 'mousedown'},\n",
       "  {'x': 322,\n",
       "   'y': 497,\n",
       "   'timestamp': '2024-11-26T00:45:42.993Z',\n",
       "   'button': 0,\n",
       "   'type': 'mousedown'},\n",
       "  {'x': 484,\n",
       "   'y': 548,\n",
       "   'timestamp': '2024-11-26T00:45:44.038Z',\n",
       "   'button': 0,\n",
       "   'type': 'mousedown'},\n",
       "  {'x': 397,\n",
       "   'y': 612,\n",
       "   'timestamp': '2024-11-26T00:45:45.411Z',\n",
       "   'button': 0,\n",
       "   'type': 'mousedown'}],\n",
       " 'ui_mouseUps': [{'x': 31,\n",
       "   'y': 23,\n",
       "   'timestamp': '2024-11-26T00:45:39.725Z',\n",
       "   'button': 0,\n",
       "   'type': 'mouseup'},\n",
       "  {'x': 32,\n",
       "   'y': 737,\n",
       "   'timestamp': '2024-11-26T00:45:40.920Z',\n",
       "   'button': 0,\n",
       "   'type': 'mouseup'},\n",
       "  {'x': 723,\n",
       "   'y': 28,\n",
       "   'timestamp': '2024-11-26T00:45:42.102Z',\n",
       "   'button': 0,\n",
       "   'type': 'mouseup'},\n",
       "  {'x': 322,\n",
       "   'y': 497,\n",
       "   'timestamp': '2024-11-26T00:45:42.994Z',\n",
       "   'button': 0,\n",
       "   'type': 'mouseup'},\n",
       "  {'x': 484,\n",
       "   'y': 548,\n",
       "   'timestamp': '2024-11-26T00:45:44.039Z',\n",
       "   'button': 0,\n",
       "   'type': 'mouseup'},\n",
       "  {'x': 397,\n",
       "   'y': 612,\n",
       "   'timestamp': '2024-11-26T00:45:45.411Z',\n",
       "   'button': 0,\n",
       "   'type': 'mouseup'}],\n",
       " 'ui_keypresses': [{'key': 'a',\n",
       "   'timestamp': '2024-11-26T00:45:43.435Z',\n",
       "   'modifiers': ''},\n",
       "  {'key': 'a', 'timestamp': '2024-11-26T00:45:44.330Z', 'modifiers': ''}],\n",
       " 'ui_keydowns': [{'key': 'a',\n",
       "   'timestamp': '2024-11-26T00:45:43.435Z',\n",
       "   'modifiers': ''},\n",
       "  {'key': 'a', 'timestamp': '2024-11-26T00:45:44.329Z', 'modifiers': ''}],\n",
       " 'ui_keyups': [{'key': 'a',\n",
       "   'timestamp': '2024-11-26T00:45:43.549Z',\n",
       "   'modifiers': ''},\n",
       "  {'key': 'a', 'timestamp': '2024-11-26T00:45:44.417Z', 'modifiers': ''}],\n",
       " 'ui_specificKeyEvents': [],\n",
       " 'ui_hoverToClickTime': 0,\n",
       " 'ui_mouseLeaveCount': 0}"
      ]
     },
     "execution_count": 15,
     "metadata": {},
     "output_type": "execute_result"
    }
   ],
   "source": [
    "fla = flatten_json(data)\n",
    "fla"
   ]
  },
  {
   "cell_type": "code",
   "execution_count": null,
   "metadata": {},
   "outputs": [],
   "source": [
    "def flatten_json(d, prefix=\"\"):\n",
    "    items = {}\n",
    "    for k, v in d.items():\n",
    "        new_key = f\"ui_{k}\" if prefix else k\n",
    "        if isinstance(v, dict):\n",
    "            items.update(flatten_json(v, new_key))\n",
    "        elif isinstance(v, list):\n",
    "            items[new_key] = v\n",
    "        else:\n",
    "            items[new_key] = v\n",
    "    return items\n",
    "\n",
    "\n",
    "# Flatten the input JSON\n",
    "flattened_data = flatten_json(data)\n",
    "flattened_data"
   ]
  },
  {
   "cell_type": "code",
   "execution_count": null,
   "metadata": {},
   "outputs": [],
   "source": [
    "feature_engineering = SSFeatureEnginnering()\n",
    "heuristics = SSHeuristicsManager()"
   ]
  },
  {
   "cell_type": "code",
   "execution_count": null,
   "metadata": {},
   "outputs": [],
   "source": []
  },
  {
   "cell_type": "code",
   "execution_count": null,
   "metadata": {},
   "outputs": [],
   "source": [
    "feature_engineering.run(flattened_data)"
   ]
  },
  {
   "cell_type": "code",
   "execution_count": null,
   "metadata": {},
   "outputs": [],
   "source": []
  }
 ],
 "metadata": {
  "kernelspec": {
   "display_name": "ss-pipline",
   "language": "python",
   "name": "python3"
  },
  "language_info": {
   "codemirror_mode": {
    "name": "ipython",
    "version": 3
   },
   "file_extension": ".py",
   "mimetype": "text/x-python",
   "name": "python",
   "nbconvert_exporter": "python",
   "pygments_lexer": "ipython3",
   "version": "3.12.0"
  }
 },
 "nbformat": 4,
 "nbformat_minor": 2
}
